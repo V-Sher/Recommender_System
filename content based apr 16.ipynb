{
 "cells": [
  {
   "cell_type": "markdown",
   "metadata": {},
   "source": [
    "### The aim of this notebook is to create a simple content-based recommendation system. Content-based means we will be giving recommendations based on the features of a song. That is songs with similar features will be recommended. For this tutorial, we can think of features as lyrics, i.e. songs with similar words in their lyrics are similar to each other. We build this system in seven steps:\n",
    "\n",
    "1. : importing necessary libraries\n",
    "2. : loading Songs dataset (from Kaggle)\n",
    "3. : clean data\n",
    "4. : detect important features from dataset\n",
    "5. : calculating song similarity based on these features\n",
    "6. : storing top n similar songs for each song\n",
    "7. : predicting recommendation"
   ]
  },
  {
   "cell_type": "markdown",
   "metadata": {},
   "source": [
    "### 1. Importing libraries"
   ]
  },
  {
   "cell_type": "code",
   "execution_count": 1,
   "metadata": {},
   "outputs": [],
   "source": [
    "import pandas as pd\n",
    "import numpy as np\n",
    "\n",
    "from typing import List, Dict"
   ]
  },
  {
   "cell_type": "code",
   "execution_count": 2,
   "metadata": {},
   "outputs": [],
   "source": [
    "from sklearn.feature_extraction.text import TfidfVectorizer"
   ]
  },
  {
   "cell_type": "markdown",
   "metadata": {},
   "source": [
    "### 2. Dataset\n",
    "#### We will be using the songs dataset available on Kaggle at https://www.kaggle.com/mousehead/songlyrics/data#"
   ]
  },
  {
   "cell_type": "code",
   "execution_count": 7,
   "metadata": {},
   "outputs": [
    {
     "data": {
      "text/html": [
       "<div>\n",
       "<style scoped>\n",
       "    .dataframe tbody tr th:only-of-type {\n",
       "        vertical-align: middle;\n",
       "    }\n",
       "\n",
       "    .dataframe tbody tr th {\n",
       "        vertical-align: top;\n",
       "    }\n",
       "\n",
       "    .dataframe thead th {\n",
       "        text-align: right;\n",
       "    }\n",
       "</style>\n",
       "<table border=\"1\" class=\"dataframe\">\n",
       "  <thead>\n",
       "    <tr style=\"text-align: right;\">\n",
       "      <th></th>\n",
       "      <th>artist</th>\n",
       "      <th>song</th>\n",
       "      <th>link</th>\n",
       "      <th>text</th>\n",
       "    </tr>\n",
       "  </thead>\n",
       "  <tbody>\n",
       "    <tr>\n",
       "      <td>0</td>\n",
       "      <td>ABBA</td>\n",
       "      <td>Ahe's My Kind Of Girl</td>\n",
       "      <td>/a/abba/ahes+my+kind+of+girl_20598417.html</td>\n",
       "      <td>Look at her face, it's a wonderful face  \\nAnd...</td>\n",
       "    </tr>\n",
       "    <tr>\n",
       "      <td>1</td>\n",
       "      <td>ABBA</td>\n",
       "      <td>Andante, Andante</td>\n",
       "      <td>/a/abba/andante+andante_20002708.html</td>\n",
       "      <td>Take it easy with me, please  \\nTouch me gentl...</td>\n",
       "    </tr>\n",
       "    <tr>\n",
       "      <td>2</td>\n",
       "      <td>ABBA</td>\n",
       "      <td>As Good As New</td>\n",
       "      <td>/a/abba/as+good+as+new_20003033.html</td>\n",
       "      <td>I'll never know why I had to go  \\nWhy I had t...</td>\n",
       "    </tr>\n",
       "    <tr>\n",
       "      <td>3</td>\n",
       "      <td>ABBA</td>\n",
       "      <td>Bang</td>\n",
       "      <td>/a/abba/bang_20598415.html</td>\n",
       "      <td>Making somebody happy is a question of give an...</td>\n",
       "    </tr>\n",
       "    <tr>\n",
       "      <td>4</td>\n",
       "      <td>ABBA</td>\n",
       "      <td>Bang-A-Boomerang</td>\n",
       "      <td>/a/abba/bang+a+boomerang_20002668.html</td>\n",
       "      <td>Making somebody happy is a question of give an...</td>\n",
       "    </tr>\n",
       "  </tbody>\n",
       "</table>\n",
       "</div>"
      ],
      "text/plain": [
       "  artist                   song                                        link  \\\n",
       "0   ABBA  Ahe's My Kind Of Girl  /a/abba/ahes+my+kind+of+girl_20598417.html   \n",
       "1   ABBA       Andante, Andante       /a/abba/andante+andante_20002708.html   \n",
       "2   ABBA         As Good As New        /a/abba/as+good+as+new_20003033.html   \n",
       "3   ABBA                   Bang                  /a/abba/bang_20598415.html   \n",
       "4   ABBA       Bang-A-Boomerang      /a/abba/bang+a+boomerang_20002668.html   \n",
       "\n",
       "                                                text  \n",
       "0  Look at her face, it's a wonderful face  \\nAnd...  \n",
       "1  Take it easy with me, please  \\nTouch me gentl...  \n",
       "2  I'll never know why I had to go  \\nWhy I had t...  \n",
       "3  Making somebody happy is a question of give an...  \n",
       "4  Making somebody happy is a question of give an...  "
      ]
     },
     "execution_count": 7,
     "metadata": {},
     "output_type": "execute_result"
    }
   ],
   "source": [
    "#Read data into dataframe\n",
    "songs = pd.read_csv('songdata.csv')\n",
    "# Inspect the data\n",
    "songs.head()"
   ]
  },
  {
   "cell_type": "markdown",
   "metadata": {},
   "source": [
    "### 3. Pre-processing dataset"
   ]
  },
  {
   "cell_type": "code",
   "execution_count": 9,
   "metadata": {},
   "outputs": [],
   "source": [
    "# resample only 5000 rows from dataset (to keep dataset and processing time manageable for the intent of this tutorial)\n",
    "songs = songs.sample(n = 5000)"
   ]
  },
  {
   "cell_type": "code",
   "execution_count": 10,
   "metadata": {},
   "outputs": [
    {
     "data": {
      "text/html": [
       "<div>\n",
       "<style scoped>\n",
       "    .dataframe tbody tr th:only-of-type {\n",
       "        vertical-align: middle;\n",
       "    }\n",
       "\n",
       "    .dataframe tbody tr th {\n",
       "        vertical-align: top;\n",
       "    }\n",
       "\n",
       "    .dataframe thead th {\n",
       "        text-align: right;\n",
       "    }\n",
       "</style>\n",
       "<table border=\"1\" class=\"dataframe\">\n",
       "  <thead>\n",
       "    <tr style=\"text-align: right;\">\n",
       "      <th></th>\n",
       "      <th>artist</th>\n",
       "      <th>song</th>\n",
       "      <th>link</th>\n",
       "      <th>text</th>\n",
       "    </tr>\n",
       "  </thead>\n",
       "  <tbody>\n",
       "    <tr>\n",
       "      <td>count</td>\n",
       "      <td>5000</td>\n",
       "      <td>5000</td>\n",
       "      <td>5000</td>\n",
       "      <td>5000</td>\n",
       "    </tr>\n",
       "    <tr>\n",
       "      <td>unique</td>\n",
       "      <td>603</td>\n",
       "      <td>4763</td>\n",
       "      <td>5000</td>\n",
       "      <td>4998</td>\n",
       "    </tr>\n",
       "    <tr>\n",
       "      <td>top</td>\n",
       "      <td>Christmas Songs</td>\n",
       "      <td>A Song For You</td>\n",
       "      <td>/c/conway+twitty/halfway+to+heaven_20213954.html</td>\n",
       "      <td>Baby here I stand before you  \\nWith my heart ...</td>\n",
       "    </tr>\n",
       "    <tr>\n",
       "      <td>freq</td>\n",
       "      <td>23</td>\n",
       "      <td>5</td>\n",
       "      <td>1</td>\n",
       "      <td>2</td>\n",
       "    </tr>\n",
       "  </tbody>\n",
       "</table>\n",
       "</div>"
      ],
      "text/plain": [
       "                 artist            song  \\\n",
       "count              5000            5000   \n",
       "unique              603            4763   \n",
       "top     Christmas Songs  A Song For You   \n",
       "freq                 23               5   \n",
       "\n",
       "                                                    link  \\\n",
       "count                                               5000   \n",
       "unique                                              5000   \n",
       "top     /c/conway+twitty/halfway+to+heaven_20213954.html   \n",
       "freq                                                   1   \n",
       "\n",
       "                                                     text  \n",
       "count                                                5000  \n",
       "unique                                               4998  \n",
       "top     Baby here I stand before you  \\nWith my heart ...  \n",
       "freq                                                    2  "
      ]
     },
     "execution_count": 10,
     "metadata": {},
     "output_type": "execute_result"
    }
   ],
   "source": [
    "songs.describe(include = 'all')"
   ]
  },
  {
   "cell_type": "markdown",
   "metadata": {},
   "source": [
    "If we observe the ***text*** column in the dataset, which represents the lyrics for the songs, we will observe the lyrics have some '\\n' in them. We must remove them as part of pre-processing."
   ]
  },
  {
   "cell_type": "code",
   "execution_count": 11,
   "metadata": {},
   "outputs": [],
   "source": [
    "# Replace \\n present in the text with blank space\n",
    "songs['text'] = songs['text'].str.replace('\\n', '' )"
   ]
  },
  {
   "cell_type": "markdown",
   "metadata": {},
   "source": [
    "### 4. Calculating the term frequency - inverse document frequency (tf-idf) matrix. \n",
    "In this matrix, there is the tf-idf score for each song lyric word by word. In other words, we first pick all the unique words across all the lyrics (which can be useful for calculating similarity between two different songs) and calculate their importance (as measured by tf-idf score) with respect to each song."
   ]
  },
  {
   "cell_type": "code",
   "execution_count": 13,
   "metadata": {},
   "outputs": [],
   "source": [
    "# Initialize tfidf vectorizer\n",
    "tfidf = TfidfVectorizer(analyzer = 'word', stop_words= 'english')\n",
    "\n",
    "# this is used for calculating tf (term frequency) and idf (inverse document frequency)\n",
    "\n",
    "#tf = number of occurence of that word/ total number of words\n",
    "#idf = log(total number of documents/no of documents containg the term)\n",
    "\n",
    "# now we are going to calculate the TF-IDF score for each song lyric word by word i.e. TF * IDF\n",
    "#tfidf.get_feature_names()"
   ]
  },
  {
   "cell_type": "code",
   "execution_count": 14,
   "metadata": {},
   "outputs": [],
   "source": [
    "# Fit and transform \n",
    "tfidf_matrix = tfidf.fit_transform(songs['text'])"
   ]
  },
  {
   "cell_type": "code",
   "execution_count": 15,
   "metadata": {},
   "outputs": [
    {
     "data": {
      "text/plain": [
       "(5000, 24591)"
      ]
     },
     "execution_count": 15,
     "metadata": {},
     "output_type": "execute_result"
    }
   ],
   "source": [
    "tfidf_matrix.shape \n",
    "# from the shape, we see that the matrix has \n",
    "# as rows all the 5000 songs and each words \n",
    "# importance corresponding to the song is given"
   ]
  },
  {
   "cell_type": "markdown",
   "metadata": {},
   "source": [
    "As we can see, the algorithm spits out 24591 unique words which it thinks will be useful for calculating similarity between lyrics. This is too many features and in an ideal world we will be reducing them using some sort of dimensionality reduction technique (like PCA or autoencoders), however, for the time being we will let it be."
   ]
  },
  {
   "cell_type": "code",
   "execution_count": 16,
   "metadata": {},
   "outputs": [
    {
     "data": {
      "text/plain": [
       "matrix([[0., 0., 0., ..., 0., 0., 0.],\n",
       "        [0., 0., 0., ..., 0., 0., 0.],\n",
       "        [0., 0., 0., ..., 0., 0., 0.],\n",
       "        ...,\n",
       "        [0., 0., 0., ..., 0., 0., 0.],\n",
       "        [0., 0., 0., ..., 0., 0., 0.],\n",
       "        [0., 0., 0., ..., 0., 0., 0.]])"
      ]
     },
     "execution_count": 16,
     "metadata": {},
     "output_type": "execute_result"
    }
   ],
   "source": [
    "# to get basic idea how the matrix looks\n",
    "tfidf_matrix.todense()"
   ]
  },
  {
   "cell_type": "markdown",
   "metadata": {},
   "source": [
    "### 5. Calculating similarity between lyrics\n",
    "To calculate similarity of one lyric to the next, we can be using euclidean distance or cosine similarity (or for that matter any other distance measure). However, we will be using cosine because we are not only interested in the magnitude of the tf-idf but also the angle between the lyrics:\n",
    "- small angle means more similar songs \n",
    "- angle = 0 means songs have nothing in common\n",
    "- large angle means songs are completely opposite\n",
    "\n",
    "(Please refer to http://blog.christianperone.com/2013/09/machine-learning-cosine-similarity-for-vector-space-models-part-iii/) for a thorough explanation of the need to choose cosine distances.\n",
    "\n",
    "To calculate cosine distance between two lyrics, we need a vector of values (just like we need for euclidean distance too) for each of these two lyrics. In our case, this vector of values will be the tfidf score for all the unique words. Thus the vector for song1 looks like <tfidf_1, tfidf_2, .... tfidf_24591> and similar for song2 as well. Luckily for us, we have these vectors for each lyric already calculated in our tfidf matrix and this is what we will pass to the cosine_similarity function as well."
   ]
  },
  {
   "cell_type": "code",
   "execution_count": 17,
   "metadata": {},
   "outputs": [],
   "source": [
    "from sklearn.metrics.pairwise import cosine_similarity\n",
    "\n",
    "# To see the similarity of the first song with all the other songs\n",
    "# cosine_similarity(tfidf_matrix[0:1], tfidf_matrix) # in the output, first value is 1 because the song is being compared to itself \n",
    "\n",
    "# to calculate the similarity between each pair of songs\n",
    "cosine_similarities = cosine_similarity(tfidf_matrix)"
   ]
  },
  {
   "cell_type": "markdown",
   "metadata": {},
   "source": [
    "As an output, we will get an n x n matrix where n is the number of songs and the value in ith row and jth column represents the similarity between the ith song and jth song."
   ]
  },
  {
   "cell_type": "code",
   "execution_count": 18,
   "metadata": {},
   "outputs": [
    {
     "data": {
      "text/plain": [
       "array([   0, 1803, 3205, 3791, 1757, 2384, 1442, 1535, 2579,  865, 4469,\n",
       "       4608,  497, 2815, 1516, 1204,  132, 2695, 3466,  835, 1521, 1957,\n",
       "       4254, 4906,   45,  656, 4123, 1871, 4910,   22, 1491,  775, 2222,\n",
       "        343, 2044, 3973,  831, 1749, 3953, 1245, 4672, 4162, 1454, 2574,\n",
       "         97,  213, 1449, 2816, 1507])"
      ]
     },
     "execution_count": 18,
     "metadata": {},
     "output_type": "execute_result"
    }
   ],
   "source": [
    "# To see the 50 most similar song to the song[0]\n",
    "\n",
    "# getting the column numbers which essentialy represent the song number of the 50 most similar songs to the song[0]\n",
    "cosine_similarities[0].argsort()[:-50:-1] # argort gives you the position (starting from 0) rather than the value itself\n"
   ]
  },
  {
   "cell_type": "markdown",
   "metadata": {},
   "source": [
    "### 6. Creating dictionary for highly similar songs"
   ]
  },
  {
   "cell_type": "code",
   "execution_count": 19,
   "metadata": {},
   "outputs": [],
   "source": [
    "# creating a dictionary to store for each song 50 most similar song\n",
    "my_dict = {} # initialize empty dictionary\n",
    "\n",
    "for i in range(len(cosine_similarities)): # loop over all the songs in cosine_similarity matrix\n",
    "    similar_indices = cosine_similarities[i].argsort()[:-50:-1] # returns the indexes of top 50 songs\n",
    "    \n",
    "    # Setting the key as the song name\n",
    "    song_name = songs['song'].iloc[i] \n",
    "    \n",
    "    # Setting the value as three items i.e (1) similarity score, (2) song name, (3) artist name\n",
    "    # we need the similarity score, songname and artist name for only those songs whose indices were found in similar_indices\n",
    "    my_dict[song_name] = [(cosine_similarities[i][x], songs['song'].iloc[x], songs['artist'].iloc[x]) for x in similar_indices][1:]"
   ]
  },
  {
   "cell_type": "code",
   "execution_count": 20,
   "metadata": {},
   "outputs": [
    {
     "data": {
      "text/plain": [
       "[(0.5066125791275065, 'Love Me Now', 'John Legend'),\n",
       " (0.5060429641432027, 'For The Girl Who Has Everything', \"'n Sync\"),\n",
       " (0.47467050528723503, \"Lookin' For That Girl\", 'Tim McGraw')]"
      ]
     },
     "execution_count": 20,
     "metadata": {},
     "output_type": "execute_result"
    }
   ],
   "source": [
    "# Testing whether this dictionary works to give three most similar songs for Song number 10\n",
    "getforsong = songs['song'].iloc[10]\n",
    "getforsong\n",
    "my_dict.get(getforsong)[:3] # select only first 3 rows of the output since we want only top 3 recommendations"
   ]
  },
  {
   "cell_type": "markdown",
   "metadata": {},
   "source": [
    "### 7. Making content-based song recommendations for particular song"
   ]
  },
  {
   "cell_type": "code",
   "execution_count": 21,
   "metadata": {},
   "outputs": [],
   "source": [
    "# Let us use this dictionary to present the recommendations\n",
    "\n",
    "def get_recommendation(ques):\n",
    "    \n",
    "            # Get song to find recommendations for\n",
    "            song = ques['song']\n",
    "            \n",
    "            # Get number of songs to recommend\n",
    "            number_songs = ques['no_of_songs']\n",
    "            \n",
    "            # Get the number of songs most similars from my_dict\n",
    "            recom_song = my_dict.get(song)[:number_songs]\n",
    "            \n",
    "            # print each item in recom_song\n",
    "            print(f\"The recommended songs for {song} by {songs.loc[songs['song'] == song, 'artist'].iloc[0]} are\")\n",
    "            for i in range(number_songs):\n",
    "                print(f\"{recom_song[i][1]} by {recom_song[i][2]} with similarity score {recom_song[i][0]} \")\n",
    "#             print(recom_song)"
   ]
  },
  {
   "cell_type": "code",
   "execution_count": 22,
   "metadata": {},
   "outputs": [
    {
     "name": "stdout",
     "output_type": "stream",
     "text": [
      "The recommended songs for Working Class Hero by Marilyn Manson are\n",
      "Hero by Mariah Carey with similarity score 0.4161157147759222 \n",
      "Barrier Reef by Old 97's with similarity score 0.31360076636387807 \n",
      "Heroes by Helloween with similarity score 0.21100304905514192 \n",
      "Clampdown by Indigo Girls with similarity score 0.20893836777075372 \n"
     ]
    }
   ],
   "source": [
    "# Create a dictionary to pass as input\n",
    "\n",
    "ques = {\n",
    "    \"song\" : songs['song'].iloc[1104],\n",
    "    \"no_of_songs\" : 4\n",
    "}\n",
    "\n",
    "get_recommendation(ques)"
   ]
  },
  {
   "cell_type": "code",
   "execution_count": null,
   "metadata": {},
   "outputs": [],
   "source": [
    "# to find the artist name given the song name\n",
    "# songs.loc[songs['song'] == \"Pieces Of A Dream\", 'artist'].iloc[0]"
   ]
  }
 ],
 "metadata": {
  "kernelspec": {
   "display_name": "Python 3",
   "language": "python",
   "name": "python3"
  },
  "language_info": {
   "codemirror_mode": {
    "name": "ipython",
    "version": 3
   },
   "file_extension": ".py",
   "mimetype": "text/x-python",
   "name": "python",
   "nbconvert_exporter": "python",
   "pygments_lexer": "ipython3",
   "version": "3.7.4"
  }
 },
 "nbformat": 4,
 "nbformat_minor": 2
}
